{
 "cells": [
  {
   "cell_type": "markdown",
   "id": "9a8006ba",
   "metadata": {
    "papermill": {
     "duration": 0.002101,
     "end_time": "2025-08-09T11:26:21.872372",
     "exception": false,
     "start_time": "2025-08-09T11:26:21.870271",
     "status": "completed"
    },
    "tags": []
   },
   "source": [
    "# Import libraries and glance "
   ]
  },
  {
   "cell_type": "code",
   "execution_count": 1,
   "id": "b3ffd368",
   "metadata": {
    "execution": {
     "iopub.execute_input": "2025-08-09T11:26:21.877378Z",
     "iopub.status.busy": "2025-08-09T11:26:21.876988Z",
     "iopub.status.idle": "2025-08-09T11:26:26.113642Z",
     "shell.execute_reply": "2025-08-09T11:26:26.112163Z"
    },
    "papermill": {
     "duration": 4.241441,
     "end_time": "2025-08-09T11:26:26.115700",
     "exception": false,
     "start_time": "2025-08-09T11:26:21.874259",
     "status": "completed"
    },
    "tags": []
   },
   "outputs": [
    {
     "name": "stdout",
     "output_type": "stream",
     "text": [
      "   Order ID        Date             Product  Price  Quantity Purchase Type  \\\n",
      "0     10452  07-11-2022               Fries   3.49    573.07       Online    \n",
      "1     10453  07-11-2022           Beverages   2.95    745.76       Online    \n",
      "2     10454  07-11-2022       Sides & Other   4.99    200.40     In-store    \n",
      "3     10455  08-11-2022             Burgers  12.99    569.67     In-store    \n",
      "4     10456  08-11-2022  Chicken Sandwiches   9.95    201.01     In-store    \n",
      "\n",
      "  Payment Method             Manager    City  \n",
      "0      Gift Card    Tom      Jackson  London  \n",
      "1      Gift Card         Pablo Perez  Madrid  \n",
      "2      Gift Card       Joao    Silva  Lisbon  \n",
      "3    Credit Card       Walter Muller  Berlin  \n",
      "4    Credit Card       Walter Muller  Berlin  \n",
      "<class 'pandas.core.frame.DataFrame'>\n",
      "RangeIndex: 254 entries, 0 to 253\n",
      "Data columns (total 9 columns):\n",
      " #   Column          Non-Null Count  Dtype  \n",
      "---  ------          --------------  -----  \n",
      " 0   Order ID        254 non-null    int64  \n",
      " 1   Date            254 non-null    object \n",
      " 2   Product         254 non-null    object \n",
      " 3   Price           254 non-null    float64\n",
      " 4   Quantity        254 non-null    float64\n",
      " 5   Purchase Type   254 non-null    object \n",
      " 6   Payment Method  254 non-null    object \n",
      " 7   Manager         254 non-null    object \n",
      " 8   City            254 non-null    object \n",
      "dtypes: float64(2), int64(1), object(6)\n",
      "memory usage: 18.0+ KB\n",
      "None\n",
      "           Order ID       Price    Quantity\n",
      "count    254.000000  254.000000  254.000000\n",
      "mean   10584.133858    7.102323  460.611457\n",
      "std       75.889181    4.341855  214.888699\n",
      "min    10452.000000    2.950000  200.400000\n",
      "25%    10520.250000    3.490000  201.010000\n",
      "50%    10583.500000    4.990000  538.880000\n",
      "75%    10649.750000    9.950000  677.440000\n",
      "max    10713.000000   29.050000  754.430000\n"
     ]
    }
   ],
   "source": [
    "import pandas as pd\n",
    "import numpy as np\n",
    "import matplotlib.pyplot as plt\n",
    "import seaborn as sns\n",
    "from datetime import datetime\n",
    "import warnings\n",
    "warnings.filterwarnings('ignore')\n",
    "\n",
    "# Data loading and initial exploration\n",
    "df = pd.read_csv('/kaggle/input/restaurant-sales-data/9. Sales-Data-Analysis.csv')\n",
    "print(df.head())\n",
    "print(df.info())\n",
    "print(df.describe())"
   ]
  },
  {
   "cell_type": "code",
   "execution_count": 2,
   "id": "8ec5e96b",
   "metadata": {
    "execution": {
     "iopub.execute_input": "2025-08-09T11:26:26.121074Z",
     "iopub.status.busy": "2025-08-09T11:26:26.120621Z",
     "iopub.status.idle": "2025-08-09T11:26:26.137420Z",
     "shell.execute_reply": "2025-08-09T11:26:26.136215Z"
    },
    "papermill": {
     "duration": 0.021422,
     "end_time": "2025-08-09T11:26:26.139201",
     "exception": false,
     "start_time": "2025-08-09T11:26:26.117779",
     "status": "completed"
    },
    "tags": []
   },
   "outputs": [
    {
     "name": "stdout",
     "output_type": "stream",
     "text": [
      "=== DATA OVERVIEW ===\n",
      "Dataset shape: (254, 9)\n",
      "Memory usage: 104.70 KB\n",
      "=== MISSING VALUES ===\n",
      "Order ID          0\n",
      "Date              0\n",
      "Product           0\n",
      "Price             0\n",
      "Quantity          0\n",
      "Purchase Type     0\n",
      "Payment Method    0\n",
      "Manager           0\n",
      "City              0\n",
      "dtype: int64\n",
      "=== UNIQUE VALUES PER COLUMN ===\n",
      "Order ID: 254 unique values\n",
      "Date: 53 unique values\n",
      "Product: 5 unique values\n",
      "Price: 7 unique values\n",
      "Quantity: 29 unique values\n",
      "Purchase Type: 3 unique values\n",
      "Payment Method: 3 unique values\n",
      "Manager: 14 unique values\n",
      "City: 5 unique values\n"
     ]
    }
   ],
   "source": [
    "plt.style.use('seaborn-v0_8')\n",
    "sns.set_palette(\"husl\")\n",
    "print(\"=== DATA OVERVIEW ===\")\n",
    "print(f\"Dataset shape: {df.shape}\")\n",
    "print(f\"Memory usage: {df.memory_usage(deep=True).sum() / 1024:.2f} KB\")\n",
    "print(\"=== MISSING VALUES ===\")\n",
    "print(df.isnull().sum())\n",
    "print(\"=== UNIQUE VALUES PER COLUMN ===\")\n",
    "for col in df.columns:\n",
    "    print(f\"{col}: {df[col].nunique()} unique values\")"
   ]
  },
  {
   "cell_type": "markdown",
   "id": "0f8d0d2b",
   "metadata": {
    "papermill": {
     "duration": 0.0016,
     "end_time": "2025-08-09T11:26:26.142937",
     "exception": false,
     "start_time": "2025-08-09T11:26:26.141337",
     "status": "completed"
    },
    "tags": []
   },
   "source": [
    "* No missing value at all.Good for you XD"
   ]
  }
 ],
 "metadata": {
  "kaggle": {
   "accelerator": "none",
   "dataSources": [
    {
     "datasetId": 7983410,
     "sourceId": 12634413,
     "sourceType": "datasetVersion"
    }
   ],
   "dockerImageVersionId": 31089,
   "isGpuEnabled": false,
   "isInternetEnabled": true,
   "language": "python",
   "sourceType": "notebook"
  },
  "kernelspec": {
   "display_name": "Python 3",
   "language": "python",
   "name": "python3"
  },
  "language_info": {
   "codemirror_mode": {
    "name": "ipython",
    "version": 3
   },
   "file_extension": ".py",
   "mimetype": "text/x-python",
   "name": "python",
   "nbconvert_exporter": "python",
   "pygments_lexer": "ipython3",
   "version": "3.11.13"
  },
  "papermill": {
   "default_parameters": {},
   "duration": 10.054015,
   "end_time": "2025-08-09T11:26:26.865644",
   "environment_variables": {},
   "exception": null,
   "input_path": "__notebook__.ipynb",
   "output_path": "__notebook__.ipynb",
   "parameters": {},
   "start_time": "2025-08-09T11:26:16.811629",
   "version": "2.6.0"
  }
 },
 "nbformat": 4,
 "nbformat_minor": 5
}
